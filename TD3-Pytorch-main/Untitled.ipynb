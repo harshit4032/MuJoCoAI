{
 "cells": [
  {
   "cell_type": "code",
   "execution_count": 3,
   "id": "4f882473",
   "metadata": {},
   "outputs": [
    {
     "name": "stdout",
     "output_type": "stream",
     "text": [
      "Traceback (most recent call last):\r\n",
      "  File \"/Users/harsh/Downloads/TD3-Pytorch-main/main.py\", line 3, in <module>\r\n",
      "    import gym\r\n",
      "ModuleNotFoundError: No module named 'gym'\r\n"
     ]
    }
   ],
   "source": [
    "!python3 main.py --EnvIdex 0 --write False --render True --Loadmodel True --ModelIdex 100000"
   ]
  },
  {
   "cell_type": "code",
   "execution_count": 2,
   "id": "801fdbd5",
   "metadata": {},
   "outputs": [
    {
     "name": "stdout",
     "output_type": "stream",
     "text": [
      "Collecting gym[all]\n",
      "  Using cached gym-0.26.2.tar.gz (721 kB)\n",
      "  Installing build dependencies ... \u001b[?25ldone\n",
      "\u001b[?25h  Getting requirements to build wheel ... \u001b[?25ldone\n",
      "\u001b[?25h  Preparing metadata (pyproject.toml) ... \u001b[?25ldone\n",
      "\u001b[?25hRequirement already satisfied: numpy>=1.18.0 in /opt/homebrew/lib/python3.11/site-packages (from gym[all]) (1.26.1)\n",
      "Collecting cloudpickle>=1.2.0 (from gym[all])\n",
      "  Obtaining dependency information for cloudpickle>=1.2.0 from https://files.pythonhosted.org/packages/96/43/dae06432d0c4b1dc9e9149ad37b4ca8384cf6eb7700cd9215b177b914f0a/cloudpickle-3.0.0-py3-none-any.whl.metadata\n",
      "  Downloading cloudpickle-3.0.0-py3-none-any.whl.metadata (7.0 kB)\n",
      "Collecting gym-notices>=0.0.4 (from gym[all])\n",
      "  Using cached gym_notices-0.0.8-py3-none-any.whl (3.0 kB)\n",
      "Collecting moviepy>=1.0.0 (from gym[all])\n",
      "  Downloading moviepy-1.0.3.tar.gz (388 kB)\n",
      "\u001b[2K     \u001b[90m━━━━━━━━━━━━━━━━━━━━━━━━━━━━━━━━━━━━━\u001b[0m \u001b[32m388.3/388.3 kB\u001b[0m \u001b[31m701.6 kB/s\u001b[0m eta \u001b[36m0:00:00\u001b[0m00:01\u001b[0m00:01\u001b[0m\n",
      "\u001b[?25h  Preparing metadata (setup.py) ... \u001b[?25ldone\n",
      "\u001b[?25hCollecting swig==4.* (from gym[all])\n",
      "  Using cached swig-4.1.1-py2.py3-none-macosx_11_0_arm64.whl (1.7 MB)\n",
      "Collecting mujoco-py<2.2,>=2.1 (from gym[all])\n",
      "  Downloading mujoco_py-2.1.2.14-py3-none-any.whl (2.4 MB)\n",
      "\u001b[2K     \u001b[90m━━━━━━━━━━━━━━━━━━━━━━━━━━━━━━━━━━━━━━━━\u001b[0m \u001b[32m2.4/2.4 MB\u001b[0m \u001b[31m622.5 kB/s\u001b[0m eta \u001b[36m0:00:00\u001b[0m00:01\u001b[0m00:01\u001b[0m\n",
      "\u001b[?25hCollecting mujoco==2.2 (from gym[all])\n",
      "  Downloading mujoco-2.2.0.tar.gz (138 kB)\n",
      "\u001b[2K     \u001b[90m━━━━━━━━━━━━━━━━━━━━━━━━━━━━━━━━━━━━━\u001b[0m \u001b[32m138.2/138.2 kB\u001b[0m \u001b[31m247.8 kB/s\u001b[0m eta \u001b[36m0:00:00\u001b[0ma \u001b[36m0:00:01\u001b[0m\n",
      "\u001b[?25h  Preparing metadata (setup.py) ... \u001b[?25ldone\n",
      "\u001b[?25hCollecting lz4>=3.1.0 (from gym[all])\n",
      "  Downloading lz4-4.3.2-cp311-cp311-macosx_11_0_arm64.whl (212 kB)\n",
      "\u001b[2K     \u001b[90m━━━━━━━━━━━━━━━━━━━━━━━━━━━━━━━━━━━━━\u001b[0m \u001b[32m212.3/212.3 kB\u001b[0m \u001b[31m410.2 kB/s\u001b[0m eta \u001b[36m0:00:00\u001b[0ma \u001b[36m0:00:01\u001b[0m\n",
      "\u001b[?25hCollecting pygame==2.1.0 (from gym[all])\n",
      "  Downloading pygame-2.1.0.tar.gz (5.8 MB)\n",
      "\u001b[2K     \u001b[90m━━━━━━━━━━━━━━━━━━━━━━━━━━━━━━━━━━━━━━━━\u001b[0m \u001b[32m5.8/5.8 MB\u001b[0m \u001b[31m529.0 kB/s\u001b[0m eta \u001b[36m0:00:00\u001b[0m00:01\u001b[0m00:01\u001b[0m\n",
      "\u001b[?25h  Preparing metadata (setup.py) ... \u001b[?25lerror\n",
      "  \u001b[1;31merror\u001b[0m: \u001b[1msubprocess-exited-with-error\u001b[0m\n",
      "  \n",
      "  \u001b[31m×\u001b[0m \u001b[32mpython setup.py egg_info\u001b[0m did not run successfully.\n",
      "  \u001b[31m│\u001b[0m exit code: \u001b[1;36m1\u001b[0m\n",
      "  \u001b[31m╰─>\u001b[0m \u001b[31m[34 lines of output]\u001b[0m\n",
      "  \u001b[31m   \u001b[0m \n",
      "  \u001b[31m   \u001b[0m \n",
      "  \u001b[31m   \u001b[0m WARNING, No \"Setup\" File Exists, Running \"buildconfig/config.py\"\n",
      "  \u001b[31m   \u001b[0m Using Darwin configuration...\n",
      "  \u001b[31m   \u001b[0m \n",
      "  \u001b[31m   \u001b[0m /bin/sh: pkg-config: command not found\n",
      "  \u001b[31m   \u001b[0m /bin/sh: pkg-config: command not found\n",
      "  \u001b[31m   \u001b[0m /bin/sh: pkg-config: command not found\n",
      "  \u001b[31m   \u001b[0m Traceback (most recent call last):\n",
      "  \u001b[31m   \u001b[0m   File \"<string>\", line 2, in <module>\n",
      "  \u001b[31m   \u001b[0m   File \"<pip-setuptools-caller>\", line 34, in <module>\n",
      "  \u001b[31m   \u001b[0m   File \"/private/var/folders/kr/qhhqrprs64b22r09bdbr4mph0000gn/T/pip-install-im8qxs0e/pygame_f636f2ff2d6d4ecb95c803400c4a2005/setup.py\", line 388, in <module>\n",
      "  \u001b[31m   \u001b[0m     buildconfig.config.main(AUTO_CONFIG)\n",
      "  \u001b[31m   \u001b[0m   File \"/private/var/folders/kr/qhhqrprs64b22r09bdbr4mph0000gn/T/pip-install-im8qxs0e/pygame_f636f2ff2d6d4ecb95c803400c4a2005/buildconfig/config.py\", line 234, in main\n",
      "  \u001b[31m   \u001b[0m     deps = CFG.main(**kwds)\n",
      "  \u001b[31m   \u001b[0m            ^^^^^^^^^^^^^^^^\n",
      "  \u001b[31m   \u001b[0m   File \"/private/var/folders/kr/qhhqrprs64b22r09bdbr4mph0000gn/T/pip-install-im8qxs0e/pygame_f636f2ff2d6d4ecb95c803400c4a2005/buildconfig/config_darwin.py\", line 143, in main\n",
      "  \u001b[31m   \u001b[0m     find_freetype(),\n",
      "  \u001b[31m   \u001b[0m     ^^^^^^^^^^^^^^^\n",
      "  \u001b[31m   \u001b[0m   File \"/private/var/folders/kr/qhhqrprs64b22r09bdbr4mph0000gn/T/pip-install-im8qxs0e/pygame_f636f2ff2d6d4ecb95c803400c4a2005/buildconfig/config_darwin.py\", line 110, in find_freetype\n",
      "  \u001b[31m   \u001b[0m     pkg_config = DependencyProg(\n",
      "  \u001b[31m   \u001b[0m                  ^^^^^^^^^^^^^^^\n",
      "  \u001b[31m   \u001b[0m   File \"/private/var/folders/kr/qhhqrprs64b22r09bdbr4mph0000gn/T/pip-install-im8qxs0e/pygame_f636f2ff2d6d4ecb95c803400c4a2005/buildconfig/config_unix.py\", line 39, in __init__\n",
      "  \u001b[31m   \u001b[0m     self.ver = config[0].strip()\n",
      "  \u001b[31m   \u001b[0m                ~~~~~~^^^\n",
      "  \u001b[31m   \u001b[0m IndexError: list index out of range\n",
      "  \u001b[31m   \u001b[0m \n",
      "  \u001b[31m   \u001b[0m ---\n",
      "  \u001b[31m   \u001b[0m For help with compilation see:\n",
      "  \u001b[31m   \u001b[0m     https://www.pygame.org/wiki/MacCompile\n",
      "  \u001b[31m   \u001b[0m To contribute to pygame development see:\n",
      "  \u001b[31m   \u001b[0m     https://www.pygame.org/contribute.html\n",
      "  \u001b[31m   \u001b[0m ---\n",
      "  \u001b[31m   \u001b[0m \n",
      "  \u001b[31m   \u001b[0m \u001b[31m[end of output]\u001b[0m\n",
      "  \n",
      "  \u001b[1;35mnote\u001b[0m: This error originates from a subprocess, and is likely not a problem with pip.\n",
      "\u001b[1;31merror\u001b[0m: \u001b[1mmetadata-generation-failed\u001b[0m\n",
      "\n",
      "\u001b[31m×\u001b[0m Encountered error while generating package metadata.\n",
      "\u001b[31m╰─>\u001b[0m See above for output.\n",
      "\n",
      "\u001b[1;35mnote\u001b[0m: This is an issue with the package mentioned above, not pip.\n",
      "\u001b[1;36mhint\u001b[0m: See above for details.\n",
      "\n",
      "\u001b[1m[\u001b[0m\u001b[34;49mnotice\u001b[0m\u001b[1;39;49m]\u001b[0m\u001b[39;49m A new release of pip is available: \u001b[0m\u001b[31;49m23.2.1\u001b[0m\u001b[39;49m -> \u001b[0m\u001b[32;49m23.3\u001b[0m\n",
      "\u001b[1m[\u001b[0m\u001b[34;49mnotice\u001b[0m\u001b[1;39;49m]\u001b[0m\u001b[39;49m To update, run: \u001b[0m\u001b[32;49mpython3.11 -m pip install --upgrade pip\u001b[0m\n",
      "\u001b[?25h"
     ]
    }
   ],
   "source": [
    "!pip3 install 'gym[all]'"
   ]
  },
  {
   "cell_type": "code",
   "execution_count": null,
   "id": "9025e4af",
   "metadata": {},
   "outputs": [],
   "source": []
  }
 ],
 "metadata": {
  "kernelspec": {
   "display_name": "RL",
   "language": "python",
   "name": "rl"
  },
  "language_info": {
   "codemirror_mode": {
    "name": "ipython",
    "version": 3
   },
   "file_extension": ".py",
   "mimetype": "text/x-python",
   "name": "python",
   "nbconvert_exporter": "python",
   "pygments_lexer": "ipython3",
   "version": "3.9.7"
  }
 },
 "nbformat": 4,
 "nbformat_minor": 5
}
